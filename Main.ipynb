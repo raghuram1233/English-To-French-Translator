{
 "cells": [
  {
   "cell_type": "code",
   "execution_count": 36,
   "metadata": {},
   "outputs": [],
   "source": [
    "import tensorflow as tf\n",
    "import tensorflow_text as tf_text\n",
    "import pandas as pd\n",
    "import numpy as np\n",
    "import matplotlib.pyplot as plt"
   ]
  },
  {
   "cell_type": "code",
   "execution_count": 37,
   "metadata": {},
   "outputs": [],
   "source": [
    "def load_data(path):\n",
    "\twith open('fra.txt','r') as f:\n",
    "\t\tlines = f.read().split('\\n')[:-1]\n",
    "\n",
    "\tpairs = [line.split('\\t') for line in lines]\n",
    "\n",
    "\tcontext = np.array([context for context,target    in pairs])\n",
    "\ttarget = np.array([target for context,target in pairs])\n",
    "\n",
    "\treturn target, context"
   ]
  },
  {
   "cell_type": "code",
   "execution_count": 38,
   "metadata": {},
   "outputs": [],
   "source": [
    "target_raw, context_raw = load_data('fra.txt')"
   ]
  },
  {
   "cell_type": "code",
   "execution_count": 39,
   "metadata": {},
   "outputs": [],
   "source": [
    "BUFFER_SIZE = len(context_raw)\n",
    "BATCH_SIZE = 64\n",
    "\n",
    "is_train = np.random.uniform(size=(len(target_raw),)) < 0.8\n",
    "\n",
    "train_raw = (\n",
    "\ttf.data.Dataset\n",
    "\t.from_tensor_slices((context_raw[is_train], target_raw[is_train]))\n",
    "\t.shuffle(BUFFER_SIZE)\n",
    "\t.batch(BATCH_SIZE))\n",
    "val_raw = (\n",
    "\ttf.data.Dataset\n",
    "\t.from_tensor_slices((context_raw[~is_train], target_raw[~is_train]))\n",
    "\t.shuffle(BUFFER_SIZE)\n",
    "\t.batch(BATCH_SIZE))"
   ]
  },
  {
   "cell_type": "code",
   "execution_count": 40,
   "metadata": {},
   "outputs": [
    {
     "name": "stdout",
     "output_type": "stream",
     "text": [
      "tf.Tensor(\n",
      "[b\"That's what I'm thinking.\" b'Have you heard from the rest of the team?'\n",
      " b'Who was the woman you were talking to?' b'I must open the window.'\n",
      " b'I can fix it.'], shape=(5,), dtype=string)\n",
      "\n",
      "tf.Tensor(\n",
      "[b\"C'est ce \\xc3\\xa0 quoi je suis en train de penser.\"\n",
      " b\"As-tu entendu des nouvelles du reste de l'\\xc3\\xa9quipe ?\"\n",
      " b'Qui \\xc3\\xa9tait celle \\xc3\\xa0 qui vous parliez ?'\n",
      " b'Il me faut ouvrir la fen\\xc3\\xaatre.' b'Je peux le r\\xc3\\xa9parer.'], shape=(5,), dtype=string)\n",
      "(64,)\n"
     ]
    }
   ],
   "source": [
    "for example_context_strings, example_target_strings in train_raw.take(1):\n",
    "\tprint(example_context_strings[:5])\n",
    "\tprint()\n",
    "\tprint(example_target_strings[:5])\n",
    "\tprint(example_context_strings.shape)\n",
    "\tbreak"
   ]
  },
  {
   "cell_type": "code",
   "execution_count": 41,
   "metadata": {},
   "outputs": [
    {
     "name": "stdout",
     "output_type": "stream",
     "text": [
      "b'\\xc2\\xbfTodav\\xc3\\xada est\\xc3\\xa1 en casa?'\n",
      "b'\\xc2\\xbfTodavi\\xcc\\x81a esta\\xcc\\x81 en casa?'\n"
     ]
    }
   ],
   "source": [
    "example_text = tf.constant('¿Todavía está en casa?')\n",
    "\n",
    "print(example_text.numpy())\n",
    "print(tf_text.normalize_utf8(example_text, 'NFKD').numpy())"
   ]
  },
  {
   "cell_type": "code",
   "execution_count": 42,
   "metadata": {},
   "outputs": [],
   "source": [
    "def tf_lower_and_split_punct(text):\n",
    "\t# Split accented characters.\n",
    "\ttext = tf_text.normalize_utf8(text, 'NFKD')\n",
    "\ttext = tf.strings.lower(text)\n",
    "\t# Keep space, a to z, and select punctuation.\n",
    "\ttext = tf.strings.regex_replace(text, '[^ a-z.?!,¿]', '')\n",
    "\t# Add spaces around punctuation.\n",
    "\ttext = tf.strings.regex_replace(text, '[.?!,¿]', r' \\0 ')\n",
    "\t# Strip whitespace.\n",
    "\ttext = tf.strings.strip(text)\n",
    "\n",
    "\ttext = tf.strings.join(['[START]', text, '[END]'], separator=' ')\n",
    "\treturn text"
   ]
  },
  {
   "cell_type": "code",
   "execution_count": 43,
   "metadata": {},
   "outputs": [
    {
     "name": "stdout",
     "output_type": "stream",
     "text": [
      "¿Todavía está en casa?\n",
      "[START] ¿ todavia esta en casa ? [END]\n"
     ]
    }
   ],
   "source": [
    "print(example_text.numpy().decode())\n",
    "print(tf_lower_and_split_punct(example_text).numpy().decode())"
   ]
  },
  {
   "cell_type": "code",
   "execution_count": 44,
   "metadata": {},
   "outputs": [],
   "source": [
    "max_vocab_size = 10000\n",
    "\n",
    "context_text_processor = tf.keras.layers.TextVectorization(\n",
    "\tstandardize=tf_lower_and_split_punct,\n",
    "\tmax_tokens=max_vocab_size,\n",
    "\tragged=True)\n",
    "\n",
    "context_text_processor.adapt(train_raw.map(lambda context, target: context))"
   ]
  },
  {
   "cell_type": "code",
   "execution_count": 45,
   "metadata": {},
   "outputs": [
    {
     "data": {
      "text/plain": [
       "['', '[UNK]', '[START]', '[END]', '.', 'je', 'de', 'a', '?', 'pas']"
      ]
     },
     "execution_count": 45,
     "metadata": {},
     "output_type": "execute_result"
    }
   ],
   "source": [
    "target_text_processor = tf.keras.layers.TextVectorization(\n",
    "\tstandardize=tf_lower_and_split_punct,\n",
    "\tmax_tokens=max_vocab_size,\n",
    "\tragged=True)\n",
    "\n",
    "target_text_processor.adapt(train_raw.map(lambda context, target: target))\n",
    "target_text_processor.get_vocabulary()[:10]"
   ]
  },
  {
   "cell_type": "code",
   "execution_count": 46,
   "metadata": {},
   "outputs": [
    {
     "name": "stdout",
     "output_type": "stream",
     "text": [
      "tf.Tensor([  2  92  30  29 497   4   3], shape=(7,), dtype=int64)\n",
      "tf.Tensor(b\"That's what I'm thinking.\", shape=(), dtype=string)\n",
      "tf.Tensor([  2  91  24   8 576   6  44 295   7   9   3], shape=(11,), dtype=int64)\n",
      "tf.Tensor(b'Who was the woman you were talking to?', shape=(), dtype=string)\n"
     ]
    }
   ],
   "source": [
    "example_tokens = context_text_processor(example_context_strings)\n",
    "print(example_tokens[0])\n",
    "print(example_context_strings[0])\n",
    "print(example_tokens[2])\n",
    "print(example_context_strings[2])"
   ]
  },
  {
   "cell_type": "code",
   "execution_count": 47,
   "metadata": {},
   "outputs": [
    {
     "data": {
      "text/plain": [
       "'[START] thats what im thinking . [END]'"
      ]
     },
     "execution_count": 47,
     "metadata": {},
     "output_type": "execute_result"
    }
   ],
   "source": [
    "context_vocab = np.array(context_text_processor.get_vocabulary())\n",
    "tokens = context_vocab[example_tokens[0].numpy()]\n",
    "' '.join(tokens)"
   ]
  },
  {
   "cell_type": "code",
   "execution_count": 48,
   "metadata": {},
   "outputs": [
    {
     "data": {
      "text/plain": [
       "(10000,)"
      ]
     },
     "execution_count": 48,
     "metadata": {},
     "output_type": "execute_result"
    }
   ],
   "source": [
    "context_vocab.shape"
   ]
  },
  {
   "cell_type": "code",
   "execution_count": 49,
   "metadata": {},
   "outputs": [
    {
     "data": {
      "text/plain": [
       "Text(0.5, 1.0, 'Mask')"
      ]
     },
     "execution_count": 49,
     "metadata": {},
     "output_type": "execute_result"
    },
    {
     "data": {
      "image/png": "[encoded data removed]",
      "text/plain": [
       "<Figure size 640x480 with 2 Axes>"
      ]
     },
     "metadata": {},
     "output_type": "display_data"
    }
   ],
   "source": [
    "plt.subplot(1, 2, 1)\n",
    "plt.pcolormesh(example_tokens.to_tensor())\n",
    "plt.title('Token IDs')\n",
    "\n",
    "plt.subplot(1, 2, 2)\n",
    "plt.pcolormesh(example_tokens.to_tensor() != 0)\n",
    "plt.title('Mask')"
   ]
  },
  {
   "cell_type": "code",
   "execution_count": 50,
   "metadata": {},
   "outputs": [],
   "source": [
    "def process_text(context, target):\n",
    "\tcontext = context_text_processor(context).to_tensor()\n",
    "\ttarget = target_text_processor(target)\n",
    "\ttarg_in = target[:,:-1].to_tensor()\n",
    "\ttarg_out = target[:,1:].to_tensor()\n",
    "\treturn (context, targ_in), targ_out\n",
    "\n",
    "\n",
    "train_ds = train_raw.map(process_text, tf.data.AUTOTUNE)\n",
    "val_ds = val_raw.map(process_text, tf.data.AUTOTUNE)"
   ]
  },
  {
   "cell_type": "code",
   "execution_count": 51,
   "metadata": {},
   "outputs": [
    {
     "name": "stdout",
     "output_type": "stream",
     "text": [
      "[   2   32   43   21  537 5353    4    3    0    0    0    0    0    0\n",
      "    0    0    0]\n",
      "(64, 17)\n",
      "\n",
      "[   2   85  104 1599 3837    4    0    0    0    0    0    0    0    0\n",
      "    0    0    0]\n",
      "(64, 17)\n",
      "[  85  104 1599 3837    4    3    0    0    0    0    0    0    0    0\n",
      "    0    0    0]\n",
      "(64, 17)\n"
     ]
    }
   ],
   "source": [
    "for (ex_context_tok,ex_tar_in),ex_tar_out in train_ds.take(1):\n",
    "\tprint(ex_context_tok[0,:].numpy())\n",
    "\tprint(ex_context_tok.numpy().shape)\n",
    "\tprint()\n",
    "\tprint(ex_tar_in[0,:].numpy())\n",
    "\tprint(ex_tar_in.numpy().shape)\n",
    "\tprint(ex_tar_out[0,:].numpy())\n",
    "\tprint(ex_tar_out.numpy().shape)"
   ]
  },
  {
   "cell_type": "code",
   "execution_count": 52,
   "metadata": {},
   "outputs": [],
   "source": [
    "units = 256"
   ]
  },
  {
   "cell_type": "code",
   "execution_count": 53,
   "metadata": {},
   "outputs": [],
   "source": [
    "class Encoder(tf.keras.layers.Layer):\n",
    "\tdef __init__(self, text_processor, units,**kwargs):\n",
    "\t\tsuper(Encoder,self).__init__()\n",
    "\t\tself.text_processor = text_processor\n",
    "\t\tself.vocab_size = text_processor.vocabulary_size()\n",
    "\t\tself.units = units\n",
    "\n",
    "\t\tself.embedding = tf.keras.layers.Embedding(self.vocab_size,units,mask_zero=True)\n",
    "\n",
    "\t\tself.rnn = tf.keras.layers.Bidirectional(\n",
    "\t\t\tmerge_mode='sum',\n",
    "\t\t\tlayer=tf.keras.layers.GRU(units,\n",
    "\t\t\t\t\t\t\t\t\t  return_sequences=True,\n",
    "\t\t\t\t\t\t\t\t\t  recurrent_initializer='glorot_uniform')\n",
    "\t\t)\n",
    "\t\n",
    "\tdef call(self, x):\n",
    "\t\tx = self.embedding(x)\n",
    "\t\tx = self.rnn(x)\n",
    "\t\treturn x\n",
    "\n",
    "\tdef convert_input(self,texts):\n",
    "\t\ttexts = tf.convert_to_tensor(texts)\n",
    "\t\tif(len(texts))==0:\n",
    "\t\t\ttexts = tf.convert_to_tensor(texts)[tf.newaxis]\n",
    "\t\tcontext = self.text_processor(texts).to_tensor()\n",
    "\t\tcontext = self(context)\n",
    "\t\treturn context"
   ]
  },
  {
   "cell_type": "code",
   "execution_count": 54,
   "metadata": {},
   "outputs": [
    {
     "name": "stdout",
     "output_type": "stream",
     "text": [
      "Context tokens, shape (batch, s): (64, 17)\n",
      "Encoder output, shape (batch, s, units): (64, 17, 256)\n"
     ]
    }
   ],
   "source": [
    "# Encode the input sequence.\n",
    "encoder = Encoder(context_text_processor, units)\n",
    "ex_context = encoder(ex_context_tok)\n",
    "\n",
    "print(f'Context tokens, shape (batch, s): {ex_context_tok.shape}')\n",
    "print(f'Encoder output, shape (batch, s, units): {ex_context.shape}')"
   ]
  },
  {
   "cell_type": "code",
   "execution_count": 55,
   "metadata": {},
   "outputs": [],
   "source": [
    "class CrossAttention(tf.keras.layers.Layer):\n",
    "\tdef __init__(self, units,**kwargs):\n",
    "\t\tsuper().__init__()\n",
    "\t\tself.mha = tf.keras.layers.MultiHeadAttention(key_dim=units,num_heads=1,**kwargs)\n",
    "\t\tself.layernorm = tf.keras.layers.LayerNormalization()\n",
    "\t\tself.add = tf.keras.layers.Add()\n",
    "\n",
    "\tdef call(self,x,context):\n",
    "\t\tattn_output,attn_scores = self.mha(\n",
    "\t\t\tquery = x,\n",
    "\t\t\tvalue = context,\n",
    "\t\t\treturn_attention_scores = True\n",
    "\t\t)\n",
    "\t\tattn_scores = tf.reduce_mean(attn_scores,axis=1) \n",
    "\t\tself.last_attention_weights = attn_scores\n",
    "\n",
    "\t\tx = self.add([x,attn_output])\n",
    "\t\tx = self.layernorm(x)\n",
    "\t\treturn x"
   ]
  },
  {
   "cell_type": "code",
   "execution_count": 56,
   "metadata": {},
   "outputs": [],
   "source": [
    "attention_layer = CrossAttention(units)\n",
    "embed = tf.keras.layers.Embedding(target_text_processor.vocabulary_size(),output_dim=units,mask_zero=True)\n",
    "ex_tar_emb = embed(ex_tar_in)\n",
    "\n",
    "result = attention_layer(ex_tar_emb,ex_context)"
   ]
  },
  {
   "cell_type": "code",
   "execution_count": 57,
   "metadata": {},
   "outputs": [
    {
     "data": {
      "image/png": "[encoded data removed]",
      "text/plain": [
       "<Figure size 640x480 with 2 Axes>"
      ]
     },
     "metadata": {},
     "output_type": "display_data"
    }
   ],
   "source": [
    "attention_weights = attention_layer.last_attention_weights\n",
    "mask=(ex_context_tok != 0).numpy()\n",
    "\n",
    "plt.subplot(1, 2, 1)\n",
    "plt.pcolormesh(mask*attention_weights[:, 0, :])\n",
    "plt.title('Attention weights')\n",
    "\n",
    "plt.subplot(1, 2, 2)\n",
    "plt.pcolormesh(mask)\n",
    "plt.title('Mask');"
   ]
  },
  {
   "cell_type": "code",
   "execution_count": 58,
   "metadata": {},
   "outputs": [],
   "source": [
    "class Decoder(tf.keras.layers.Layer):  \n",
    "\t\tdef __init__(self, text_processor,units):\n",
    "\t\t\t\tsuper().__init__()\n",
    "\t\t\t\tself.text_processor = text_processor\n",
    "\t\t\t\tself.units = units\n",
    "\n",
    "\t\t\t\tself.vocab_size = text_processor.vocabulary_size()\n",
    "\n",
    "\t\t\t\tself.word_to_id = tf.keras.layers.StringLookup(\n",
    "\t\t\t\tvocabulary=text_processor.get_vocabulary(),\n",
    "\t\t\t\tmask_token='', oov_token='[UNK]')\n",
    "\t\t\t\tself.id_to_word = tf.keras.layers.StringLookup(\n",
    "\t\t\t\t\t\tvocabulary=text_processor.get_vocabulary(),\n",
    "\t\t\t\t\t\tmask_token='', oov_token='[UNK]',\n",
    "\t\t\t\t\t\tinvert=True)\n",
    "\t\t\t\tself.start_token = self.word_to_id('[START]')\n",
    "\t\t\t\tself.end_token = self.word_to_id('[END]')\n",
    "\n",
    "\t\t\t\tself.embedding = tf.keras.layers.Embedding(self.vocab_size,\n",
    "\t\t\t\t\t\t\t\t\t\t\t\t\t\t\t\t\t\t\t\t\t\t\t units, mask_zero=True)\n",
    "\n",
    "\t\t\t\t# 2. The RNN keeps track of what's been generated so far.\n",
    "\t\t\t\tself.rnn = tf.keras.layers.GRU(units,\n",
    "\t\t\t\t\t\t\t\t\t\t\t\t\t\t\t\t\t\treturn_sequences=True,\n",
    "\t\t\t\t\t\t\t\t\t\t\t\t\t\t\t\t\t\treturn_state=True,\n",
    "\t\t\t\t\t\t\t\t\t\t\t\t\t\t\t\t\t\trecurrent_initializer='glorot_uniform')\n",
    "\n",
    "\t\t\t\t# 3. The RNN output will be the query for the attention layer.\n",
    "\t\t\t\tself.attention = CrossAttention(units)\n",
    "\n",
    "\t\t\t\t# 4. This fully connected layer produces the logits for each\n",
    "\t\t\t\t# output token.\n",
    "\t\t\t\tself.output_layer = tf.keras.layers.Dense(self.vocab_size)\n",
    "\n",
    "\t\t\t\t\n",
    "\t\tdef call(self,context,x,state=None,return_state = False):\n",
    "\t\t\t\tx = self.embedding(x)\n",
    "\t\t\t\tx,state = self.rnn(x,initial_state = state)\n",
    "\t\t\t\tx = self.attention(x,context)\n",
    "\t\t\t\tself.last_attention_weights = self.attention.last_attention_weights\n",
    "\t\t\t\tlogits = self.output_layer(x)\n",
    "\t\t\t\t\n",
    "\t\t\t\tif return_state:\n",
    "\t\t\t\t\t\treturn logits,state\n",
    "\t\t\t\t\n",
    "\t\t\t\telse:   \n",
    "\t\t\t\t\t\treturn logits\n",
    "\t\t\t\t\n",
    "\t\tdef get_initial_state(self, context):\n",
    "\t\t\tbatch_size = tf.shape(context)[0]\n",
    "\t\t\tstart_tokens = tf.fill([batch_size, 1], self.start_token)\n",
    "\t\t\tdone = tf.zeros([batch_size, 1], dtype=tf.bool)\n",
    "\t\t\tembedded = self.embedding(start_tokens)\n",
    "\t\t\treturn start_tokens, done, self.rnn.get_initial_state(embedded)[0]\n",
    "\n",
    "\t\tdef tokens_to_text(self, tokens):\n",
    "\t\t\twords = self.id_to_word(tokens)\n",
    "\t\t\tresult = tf.strings.reduce_join(words, axis=-1, separator=' ')\n",
    "\t\t\tresult = tf.strings.regex_replace(result, '^ *\\[START\\] *', '')\n",
    "\t\t\tresult = tf.strings.regex_replace(result, ' *\\[END\\] *$', '')\n",
    "\t\t\treturn result\n",
    "\n",
    "\t\tdef get_next_token(self, context, next_token, done, state, temperature = 0.0):\n",
    "\t\t\tlogits, state = self(\n",
    "\t\t\t\tcontext, next_token,\n",
    "\t\t\t\tstate = state,\n",
    "\t\t\t\treturn_state=True) \n",
    "\n",
    "\t\t\tif temperature == 0.0:\n",
    "\t\t\t\tnext_token = tf.argmax(logits, axis=-1)\n",
    "\t\t\telse:\n",
    "\t\t\t\tlogits = logits[:, -1, :]/temperature\n",
    "\t\t\t\tnext_token = tf.random.categorical(logits, num_samples=1)\n",
    "\n",
    "\t\t\t# If a sequence produces an `end_token`, set it `done`\n",
    "\t\t\tdone = done | (next_token == self.end_token)\n",
    "\t\t\t# Once a sequence is done it only produces 0-padding.\n",
    "\t\t\tnext_token = tf.where(done, tf.constant(0, dtype=tf.int64), next_token)\n",
    "\n",
    "\t\t\treturn next_token, done, state\n",
    "\t\t\t\t"
   ]
  },
  {
   "cell_type": "code",
   "execution_count": 59,
   "metadata": {},
   "outputs": [],
   "source": [
    "decoder  = Decoder(target_text_processor,units)\n",
    "\n",
    "logits = decoder(ex_context, ex_tar_in)"
   ]
  },
  {
   "cell_type": "code",
   "execution_count": 60,
   "metadata": {},
   "outputs": [
    {
     "data": {
      "text/plain": [
       "array([b'privilege evidence limprimante principalement pese enervees base survecu ennuye acide',\n",
       "       b'cave repasse contrat prevenues plie charrue arrives fous alice raconta',\n",
       "       b'supplier lecon os empreinte prevoir berceau inspire interets paresse derange',\n",
       "       b'volontaires perdues destomac reparle liquide tiendra etageres medicaux reprochez allies',\n",
       "       b'marient souffrant concurrence rechercher epicerie faistu fait laissezmoi donde traitee'],\n",
       "      dtype=object)"
      ]
     },
     "execution_count": 60,
     "metadata": {},
     "output_type": "execute_result"
    }
   ],
   "source": [
    "# Setup the loop variables.\n",
    "next_token, done, state = decoder.get_initial_state(ex_context)\n",
    "tokens = []\n",
    "\n",
    "for n in range(10):\n",
    "\t# Run one step.\n",
    "\tnext_token, done, state = decoder.get_next_token(\n",
    "\t\t\tex_context, next_token, done, state, temperature=1.0)\n",
    "\t# Add the token to the output.\n",
    "\ttokens.append(next_token)\n",
    "\n",
    "# Stack all the tokens together.\n",
    "tokens = tf.concat(tokens, axis=-1) # (batch, t)\n",
    "\n",
    "# Convert the tokens back to a a string\n",
    "result = decoder.tokens_to_text(tokens)\n",
    "result[:5].numpy()"
   ]
  },
  {
   "cell_type": "code",
   "execution_count": 61,
   "metadata": {},
   "outputs": [],
   "source": [
    "class Translator(tf.keras.Model):\n",
    "\t\tdef __init__(self,units, context_text_processor,target_text_processor):\n",
    "\t\t\t\tsuper().__init__()\n",
    "\n",
    "\t\t\t\tencoder = Encoder(context_text_processor,units)\n",
    "\t\t\t\tdecoder = Decoder(target_text_processor,units)\n",
    "\n",
    "\t\t\t\tself.encoder = encoder\n",
    "\t\t\t\tself.decoder = decoder\n",
    "\n",
    "\n",
    "\t\tdef call(self,inputs):\n",
    "\t\t\tcontext,x = inputs\\\n",
    "\n",
    "\t\t\tcontext = self.encoder(context)\n",
    "\n",
    "\t\t\tlogits = self.decoder(context,x)\n",
    "\t\t\t\n",
    "\t\t\ttry:\n",
    "\t\t\t\t\tdel logits._keras_mask\n",
    "\t\t\texcept AttributeError:\n",
    "\t\t\t\t\tpass\n",
    "\t\t\t\n",
    "\t\t\treturn logits\n",
    "\t\t\t\t\n",
    "\t\tdef translate(self,\n",
    "\t\t\t\t\t\t\t\t\ttexts, *,\n",
    "\t\t\t\t\t\t\t\t\tmax_length=50,\n",
    "\t\t\t\t\t\t\t\t\ttemperature=0.0):\n",
    "\t\t\t# Process the input texts\n",
    "\t\t\tcontext = self.encoder.convert_input(texts)\n",
    "\t\t\tbatch_size = tf.shape(texts)[0]\n",
    "\n",
    "\t\t\t# Setup the loop inputs\n",
    "\t\t\ttokens = []\n",
    "\t\t\tattention_weights = []\n",
    "\t\t\tnext_token, done, state = self.decoder.get_initial_state(context)\n",
    "\n",
    "\t\t\tfor _ in range(max_length):\n",
    "\t\t\t\t# Generate the next token\n",
    "\t\t\t\tnext_token, done, state = self.decoder.get_next_token(\n",
    "\t\t\t\t\t\tcontext, next_token, done,  state, temperature)\n",
    "\n",
    "\t\t\t\t# Collect the generated tokens\n",
    "\t\t\t\ttokens.append(next_token)\n",
    "\t\t\t\tattention_weights.append(self.decoder.last_attention_weights)\n",
    "\n",
    "\t\t\t\tif tf.executing_eagerly() and tf.reduce_all(done):\n",
    "\t\t\t\t\tbreak\n",
    "\n",
    "\t\t\t# Stack the lists of tokens and attention weights.\n",
    "\t\t\ttokens = tf.concat(tokens, axis=-1)   # t*[(batch 1)] -> (batch, t)\n",
    "\t\t\tself.last_attention_weights = tf.concat(attention_weights, axis=1)  # t*[(batch 1 s)] -> (batch, t s)\n",
    "\n",
    "\t\t\tresult = self.decoder.tokens_to_text(tokens)\n",
    "\t\t\treturn result"
   ]
  },
  {
   "cell_type": "code",
   "execution_count": 62,
   "metadata": {},
   "outputs": [],
   "source": [
    "model =  Translator(units,context_text_processor,target_text_processor)\n",
    "logits = model((ex_context_tok,ex_tar_in))"
   ]
  },
  {
   "cell_type": "code",
   "execution_count": 63,
   "metadata": {},
   "outputs": [],
   "source": [
    "def masked_loss(y_true, y_pred):\n",
    "    # Calculate the loss for each item in the batch.\n",
    "    loss_fn = tf.keras.losses.SparseCategoricalCrossentropy(\n",
    "        from_logits=True, reduction='none')\n",
    "    loss = loss_fn(y_true, y_pred)\n",
    "\n",
    "    # Mask off the losses on padding.\n",
    "    mask = tf.cast(y_true != 0, loss.dtype)\n",
    "    loss *= mask\n",
    "\n",
    "    # Return the total.\n",
    "    return tf.reduce_sum(loss)/tf.reduce_sum(mask)"
   ]
  },
  {
   "cell_type": "code",
   "execution_count": 64,
   "metadata": {},
   "outputs": [],
   "source": [
    "def masked_acc(y_true, y_pred):\n",
    "    # Calculate the loss for each item in the batch.\n",
    "    y_pred = tf.argmax(y_pred, axis=-1)\n",
    "    y_pred = tf.cast(y_pred, y_true.dtype)\n",
    "\n",
    "    match = tf.cast(y_true == y_pred, tf.float32)\n",
    "    mask = tf.cast(y_true != 0, tf.float32)\n",
    "\n",
    "    return tf.reduce_sum(match)/tf.reduce_sum(mask)"
   ]
  },
  {
   "cell_type": "code",
   "execution_count": 65,
   "metadata": {},
   "outputs": [
    {
     "name": "stdout",
     "output_type": "stream",
     "text": [
      "20/20 [==============================] - 4s 25ms/step - loss: 9.2194 - masked_acc: 0.0000e+00 - masked_loss: 9.2194\n"
     ]
    },
    {
     "data": {
      "text/plain": [
       "{'loss': 9.219377517700195,\n",
       " 'masked_acc': 0.0,\n",
       " 'masked_loss': 9.219377517700195}"
      ]
     },
     "execution_count": 65,
     "metadata": {},
     "output_type": "execute_result"
    }
   ],
   "source": [
    "model.compile(optimizer='adam',\n",
    "              loss=masked_loss, \n",
    "              metrics=[masked_acc, masked_loss])\n",
    "\n",
    "vocab_size = 1.0 * target_text_processor.vocabulary_size()\n",
    "\n",
    "{\"expected_loss\": tf.math.log(vocab_size).numpy(),\n",
    " \"expected_acc\": 1/vocab_size}\n",
    "\n",
    "model.evaluate(val_ds, steps=20, return_dict=True)"
   ]
  },
  {
   "cell_type": "code",
   "execution_count": 66,
   "metadata": {},
   "outputs": [
    {
     "name": "stdout",
     "output_type": "stream",
     "text": [
      "Epoch 1/100\n",
      "100/100 [==============================] - 11s 47ms/step - loss: 5.5217 - masked_acc: 0.2164 - masked_loss: 5.5217 - val_loss: 4.5326 - val_masked_acc: 0.3209 - val_masked_loss: 4.5326\n",
      "Epoch 2/100\n",
      "100/100 [==============================] - 4s 44ms/step - loss: 4.1060 - masked_acc: 0.3685 - masked_loss: 4.1060 - val_loss: 3.7122 - val_masked_acc: 0.4063 - val_masked_loss: 3.7122\n",
      "Epoch 3/100\n",
      "100/100 [==============================] - 4s 44ms/step - loss: 3.4520 - masked_acc: 0.4351 - masked_loss: 3.4520 - val_loss: 3.1444 - val_masked_acc: 0.4770 - val_masked_loss: 3.1444\n",
      "Epoch 4/100\n",
      "100/100 [==============================] - 4s 44ms/step - loss: 3.0022 - masked_acc: 0.4902 - masked_loss: 3.0022 - val_loss: 2.7720 - val_masked_acc: 0.5155 - val_masked_loss: 2.7720\n",
      "Epoch 5/100\n",
      "100/100 [==============================] - 4s 45ms/step - loss: 2.6886 - masked_acc: 0.5337 - masked_loss: 2.6886 - val_loss: 2.4851 - val_masked_acc: 0.5599 - val_masked_loss: 2.4851\n",
      "Epoch 6/100\n",
      "100/100 [==============================] - 4s 44ms/step - loss: 2.4324 - masked_acc: 0.5726 - masked_loss: 2.4324 - val_loss: 2.3362 - val_masked_acc: 0.5849 - val_masked_loss: 2.3362\n",
      "Epoch 7/100\n",
      "100/100 [==============================] - 4s 44ms/step - loss: 2.2479 - masked_acc: 0.5969 - masked_loss: 2.2479 - val_loss: 2.1377 - val_masked_acc: 0.6099 - val_masked_loss: 2.1377\n",
      "Epoch 8/100\n",
      "100/100 [==============================] - 4s 44ms/step - loss: 2.1100 - masked_acc: 0.6167 - masked_loss: 2.1100 - val_loss: 2.0166 - val_masked_acc: 0.6176 - val_masked_loss: 2.0166\n",
      "Epoch 9/100\n",
      "100/100 [==============================] - 4s 44ms/step - loss: 1.9906 - masked_acc: 0.6296 - masked_loss: 1.9906 - val_loss: 1.8776 - val_masked_acc: 0.6436 - val_masked_loss: 1.8776\n",
      "Epoch 10/100\n",
      "100/100 [==============================] - 4s 44ms/step - loss: 1.8841 - masked_acc: 0.6398 - masked_loss: 1.8841 - val_loss: 1.8122 - val_masked_acc: 0.6454 - val_masked_loss: 1.8122\n",
      "Epoch 11/100\n",
      "100/100 [==============================] - 4s 43ms/step - loss: 1.8149 - masked_acc: 0.6489 - masked_loss: 1.8149 - val_loss: 1.7423 - val_masked_acc: 0.6631 - val_masked_loss: 1.7423\n",
      "Epoch 12/100\n",
      "100/100 [==============================] - 4s 44ms/step - loss: 1.7610 - masked_acc: 0.6572 - masked_loss: 1.7610 - val_loss: 1.6757 - val_masked_acc: 0.6635 - val_masked_loss: 1.6757\n",
      "Epoch 13/100\n",
      "100/100 [==============================] - 4s 45ms/step - loss: 1.6903 - masked_acc: 0.6636 - masked_loss: 1.6903 - val_loss: 1.6270 - val_masked_acc: 0.6764 - val_masked_loss: 1.6270\n",
      "Epoch 14/100\n",
      "100/100 [==============================] - 4s 44ms/step - loss: 1.6274 - masked_acc: 0.6714 - masked_loss: 1.6274 - val_loss: 1.5410 - val_masked_acc: 0.6856 - val_masked_loss: 1.5410\n",
      "Epoch 15/100\n",
      "100/100 [==============================] - 4s 45ms/step - loss: 1.5877 - masked_acc: 0.6765 - masked_loss: 1.5877 - val_loss: 1.6131 - val_masked_acc: 0.6744 - val_masked_loss: 1.6131\n",
      "Epoch 16/100\n",
      "100/100 [==============================] - 4s 44ms/step - loss: 1.5532 - masked_acc: 0.6860 - masked_loss: 1.5532 - val_loss: 1.4327 - val_masked_acc: 0.7019 - val_masked_loss: 1.4327\n",
      "Epoch 17/100\n",
      "100/100 [==============================] - 4s 44ms/step - loss: 1.5195 - masked_acc: 0.6875 - masked_loss: 1.5195 - val_loss: 1.5135 - val_masked_acc: 0.6837 - val_masked_loss: 1.5135\n",
      "Epoch 18/100\n",
      "100/100 [==============================] - 4s 44ms/step - loss: 1.4586 - masked_acc: 0.6926 - masked_loss: 1.4586 - val_loss: 1.4012 - val_masked_acc: 0.7046 - val_masked_loss: 1.4012\n",
      "Epoch 19/100\n",
      "100/100 [==============================] - 4s 45ms/step - loss: 1.4496 - masked_acc: 0.6947 - masked_loss: 1.4496 - val_loss: 1.3865 - val_masked_acc: 0.7014 - val_masked_loss: 1.3865\n",
      "Epoch 20/100\n",
      "100/100 [==============================] - 4s 44ms/step - loss: 1.3926 - masked_acc: 0.7050 - masked_loss: 1.3926 - val_loss: 1.3561 - val_masked_acc: 0.7083 - val_masked_loss: 1.3561\n",
      "Epoch 21/100\n",
      "100/100 [==============================] - 4s 44ms/step - loss: 1.3801 - masked_acc: 0.7035 - masked_loss: 1.3806 - val_loss: 1.3865 - val_masked_acc: 0.7034 - val_masked_loss: 1.3865\n",
      "Epoch 22/100\n",
      "100/100 [==============================] - 4s 44ms/step - loss: 1.1391 - masked_acc: 0.7370 - masked_loss: 1.1391 - val_loss: 1.3421 - val_masked_acc: 0.7020 - val_masked_loss: 1.3421\n",
      "Epoch 23/100\n",
      "100/100 [==============================] - 4s 44ms/step - loss: 1.1476 - masked_acc: 0.7363 - masked_loss: 1.1476 - val_loss: 1.3823 - val_masked_acc: 0.6997 - val_masked_loss: 1.3823\n",
      "Epoch 24/100\n",
      "100/100 [==============================] - 4s 44ms/step - loss: 1.1479 - masked_acc: 0.7351 - masked_loss: 1.1479 - val_loss: 1.2878 - val_masked_acc: 0.7137 - val_masked_loss: 1.2878\n",
      "Epoch 25/100\n",
      "100/100 [==============================] - 4s 44ms/step - loss: 1.1294 - masked_acc: 0.7390 - masked_loss: 1.1294 - val_loss: 1.2978 - val_masked_acc: 0.7120 - val_masked_loss: 1.2978\n",
      "Epoch 26/100\n",
      "100/100 [==============================] - 4s 44ms/step - loss: 1.1494 - masked_acc: 0.7356 - masked_loss: 1.1494 - val_loss: 1.2709 - val_masked_acc: 0.7196 - val_masked_loss: 1.2709\n",
      "Epoch 27/100\n",
      "100/100 [==============================] - 4s 44ms/step - loss: 1.1470 - masked_acc: 0.7338 - masked_loss: 1.1470 - val_loss: 1.2565 - val_masked_acc: 0.7220 - val_masked_loss: 1.2565\n",
      "Epoch 28/100\n",
      "100/100 [==============================] - 4s 44ms/step - loss: 1.1321 - masked_acc: 0.7366 - masked_loss: 1.1321 - val_loss: 1.2317 - val_masked_acc: 0.7317 - val_masked_loss: 1.2317\n",
      "Epoch 29/100\n",
      "100/100 [==============================] - 4s 44ms/step - loss: 1.1286 - masked_acc: 0.7373 - masked_loss: 1.1286 - val_loss: 1.2412 - val_masked_acc: 0.7263 - val_masked_loss: 1.2412\n",
      "Epoch 30/100\n",
      "100/100 [==============================] - 4s 44ms/step - loss: 1.1227 - masked_acc: 0.7374 - masked_loss: 1.1227 - val_loss: 1.2469 - val_masked_acc: 0.7235 - val_masked_loss: 1.2469\n",
      "Epoch 31/100\n",
      "100/100 [==============================] - 4s 44ms/step - loss: 1.1155 - masked_acc: 0.7413 - masked_loss: 1.1155 - val_loss: 1.2206 - val_masked_acc: 0.7269 - val_masked_loss: 1.2206\n",
      "Epoch 32/100\n",
      "100/100 [==============================] - 4s 44ms/step - loss: 1.0940 - masked_acc: 0.7427 - masked_loss: 1.0940 - val_loss: 1.1992 - val_masked_acc: 0.7281 - val_masked_loss: 1.1992\n",
      "Epoch 33/100\n",
      "100/100 [==============================] - 4s 44ms/step - loss: 1.0952 - masked_acc: 0.7438 - masked_loss: 1.0952 - val_loss: 1.2267 - val_masked_acc: 0.7248 - val_masked_loss: 1.2267\n",
      "Epoch 34/100\n",
      "100/100 [==============================] - 4s 44ms/step - loss: 1.0773 - masked_acc: 0.7455 - masked_loss: 1.0773 - val_loss: 1.2439 - val_masked_acc: 0.7240 - val_masked_loss: 1.2439\n",
      "Epoch 35/100\n",
      "100/100 [==============================] - 5s 45ms/step - loss: 1.0941 - masked_acc: 0.7432 - masked_loss: 1.0941 - val_loss: 1.1816 - val_masked_acc: 0.7317 - val_masked_loss: 1.1816\n",
      "Epoch 36/100\n",
      "100/100 [==============================] - 4s 44ms/step - loss: 1.0777 - masked_acc: 0.7466 - masked_loss: 1.0777 - val_loss: 1.1614 - val_masked_acc: 0.7350 - val_masked_loss: 1.1614\n",
      "Epoch 37/100\n",
      "100/100 [==============================] - 4s 44ms/step - loss: 1.0588 - masked_acc: 0.7528 - masked_loss: 1.0588 - val_loss: 1.1609 - val_masked_acc: 0.7382 - val_masked_loss: 1.1609\n",
      "Epoch 38/100\n",
      "100/100 [==============================] - 4s 44ms/step - loss: 1.0666 - masked_acc: 0.7487 - masked_loss: 1.0666 - val_loss: 1.1579 - val_masked_acc: 0.7345 - val_masked_loss: 1.1579\n",
      "Epoch 39/100\n",
      "100/100 [==============================] - 4s 44ms/step - loss: 1.0697 - masked_acc: 0.7460 - masked_loss: 1.0697 - val_loss: 1.1656 - val_masked_acc: 0.7370 - val_masked_loss: 1.1656\n",
      "Epoch 40/100\n",
      "100/100 [==============================] - 4s 44ms/step - loss: 1.0677 - masked_acc: 0.7501 - masked_loss: 1.0677 - val_loss: 1.1741 - val_masked_acc: 0.7322 - val_masked_loss: 1.1741\n",
      "Epoch 41/100\n",
      "100/100 [==============================] - 4s 44ms/step - loss: 1.0473 - masked_acc: 0.7509 - masked_loss: 1.0473 - val_loss: 1.2025 - val_masked_acc: 0.7298 - val_masked_loss: 1.2025\n"
     ]
    }
   ],
   "source": [
    "history = model.fit(\n",
    "    train_ds.repeat(), \n",
    "    epochs=100,\n",
    "    steps_per_epoch = 100,\n",
    "    validation_data=val_ds,\n",
    "    validation_steps = 20,\n",
    "    callbacks=[\n",
    "        tf.keras.callbacks.EarlyStopping(patience=3)])"
   ]
  },
  {
   "cell_type": "code",
   "execution_count": 67,
   "metadata": {},
   "outputs": [
    {
     "data": {
      "text/plain": [
       "<matplotlib.legend.Legend at 0x241bcfa48b0>"
      ]
     },
     "execution_count": 67,
     "metadata": {},
     "output_type": "execute_result"
    },
    {
     "data": {
      "image/png": "[encoded data removed]",
      "text/plain": [
       "<Figure size 640x480 with 1 Axes>"
      ]
     },
     "metadata": {},
     "output_type": "display_data"
    }
   ],
   "source": [
    "plt.plot(history.history['loss'], label='loss')\n",
    "plt.plot(history.history['val_loss'], label='val_loss')\n",
    "plt.ylim([0, max(plt.ylim())])\n",
    "plt.xlabel('Epoch #')\n",
    "plt.ylabel('CE/token')\n",
    "plt.legend()"
   ]
  },
  {
   "cell_type": "code",
   "execution_count": 68,
   "metadata": {},
   "outputs": [
    {
     "data": {
      "text/plain": [
       "<matplotlib.legend.Legend at 0x241bcfa45e0>"
      ]
     },
     "execution_count": 68,
     "metadata": {},
     "output_type": "execute_result"
    },
    {
     "data": {
      "image/png": "[encoded data removed]",
      "text/plain": [
       "<Figure size 640x480 with 1 Axes>"
      ]
     },
     "metadata": {},
     "output_type": "display_data"
    }
   ],
   "source": [
    "plt.plot(history.history['masked_acc'], label='accuracy')\n",
    "plt.plot(history.history['val_masked_acc'], label='val_accuracy')\n",
    "plt.ylim([0, max(plt.ylim())])\n",
    "plt.xlabel('Epoch #')\n",
    "plt.ylabel('CE/token')\n",
    "plt.legend()"
   ]
  },
  {
   "cell_type": "code",
   "execution_count": 69,
   "metadata": {},
   "outputs": [],
   "source": [
    "result = model.translate(['Ce vélo est trop petit pour vous']) # Are you still home"
   ]
  },
  {
   "cell_type": "code",
   "execution_count": null,
   "metadata": {},
   "outputs": [],
   "source": []
  },
  {
   "cell_type": "code",
   "execution_count": 70,
   "metadata": {},
   "outputs": [
    {
     "data": {
      "text/plain": [
       "'[UNK] [UNK] [UNK] [UNK] [UNK] [UNK] [UNK] [UNK] [UNK] [UNK] [UNK] [UNK] [UNK] [UNK] [UNK] [UNK] [UNK] [UNK] [UNK] [UNK] [UNK] [UNK] [UNK] [UNK] [UNK] [UNK] [UNK] [UNK] [UNK] [UNK] [UNK] [UNK] [UNK] [UNK] [UNK] [UNK] [UNK] [UNK] [UNK] [UNK] [UNK] [UNK] [UNK] [UNK] [UNK] [UNK] [UNK] [UNK] [UNK] [UNK]'"
      ]
     },
     "execution_count": 70,
     "metadata": {},
     "output_type": "execute_result"
    }
   ],
   "source": [
    "result[0].numpy().decode()"
   ]
  }
 ],
 "metadata": {
  "kernelspec": {
   "display_name": "ML",
   "language": "python",
   "name": "python3"
  },
  "language_info": {
   "codemirror_mode": {
    "name": "ipython",
    "version": 3
   },
   "file_extension": ".py",
   "mimetype": "text/x-python",
   "name": "python",
   "nbconvert_exporter": "python",
   "pygments_lexer": "ipython3",
   "version": "3.9.21"
  }
 },
 "nbformat": 4,
 "nbformat_minor": 2
}
