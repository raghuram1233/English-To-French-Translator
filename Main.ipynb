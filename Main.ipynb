{
 "cells": [
  {
   "cell_type": "code",
   "execution_count": 37,
   "metadata": {},
   "outputs": [],
   "source": [
    "import tensorflow as tf\n",
    "import tensorflow_text as tf_text\n",
    "import pandas as pd\n",
    "import numpy as np\n",
    "import matplotlib.pyplot as plt"
   ]
  },
  {
   "cell_type": "code",
   "execution_count": 38,
   "metadata": {},
   "outputs": [],
   "source": [
    "def load_data(path):\n",
    "\twith open('fra.txt','r') as f:\n",
    "\t\tlines = f.read().split('\\n')[:-1]\n",
    "\n",
    "\tpairs = [line.split('\\t') for line in lines]\n",
    "\n",
    "\tcontext = np.array([context for target, context in pairs])\n",
    "\ttarget = np.array([target for target, context in pairs])\n",
    "\n",
    "\treturn target, context"
   ]
  },
  {
   "cell_type": "code",
   "execution_count": 39,
   "metadata": {},
   "outputs": [],
   "source": [
    "target_raw, context_raw = load_data('fra.txt')"
   ]
  },
  {
   "cell_type": "code",
   "execution_count": 40,
   "metadata": {},
   "outputs": [],
   "source": [
    "BUFFER_SIZE = len(context_raw)\n",
    "BATCH_SIZE = 64\n",
    "\n",
    "is_train = np.random.uniform(size=(len(target_raw),)) < 0.8\n",
    "\n",
    "train_raw = (\n",
    "\ttf.data.Dataset\n",
    "\t.from_tensor_slices((context_raw[is_train], target_raw[is_train]))\n",
    "\t.shuffle(BUFFER_SIZE)\n",
    "\t.batch(BATCH_SIZE))\n",
    "val_raw = (\n",
    "\ttf.data.Dataset\n",
    "\t.from_tensor_slices((context_raw[~is_train], target_raw[~is_train]))\n",
    "\t.shuffle(BUFFER_SIZE)\n",
    "\t.batch(BATCH_SIZE))"
   ]
  },
  {
   "cell_type": "code",
   "execution_count": 41,
   "metadata": {},
   "outputs": [
    {
     "name": "stdout",
     "output_type": "stream",
     "text": [
      "tf.Tensor(\n",
      "[b'Les gar\\xc3\\xa7ons ont \\xc3\\xa9t\\xc3\\xa9 bless\\xc3\\xa9s.'\n",
      " b'Ce qui est en question dans ce d\\xc3\\xa9bat est la survie de notre plan\\xc3\\xa8te.'\n",
      " b\"J'ai besoin de savoir tout ce que vous connaissez \\xc3\\xa0 propos de Tom.\"\n",
      " b\"Je n'ai pas fait de b\\xc3\\xa9n\\xc3\\xa9volat.\"\n",
      " b\"Vous avez l'air un peu jeune pour \\xc3\\xaatre enseignante.\"], shape=(5,), dtype=string)\n",
      "\n",
      "tf.Tensor(\n",
      "[b'The boys were injured.'\n",
      " b'What is at issue in this debate is the survival of our planet.'\n",
      " b'I need to know everything that you know about Tom.'\n",
      " b\"I didn't volunteer.\" b'You look a little young to be a teacher.'], shape=(5,), dtype=string)\n",
      "(64,)\n"
     ]
    }
   ],
   "source": [
    "for example_context_strings, example_target_strings in train_raw.take(1):\n",
    "\tprint(example_context_strings[:5])\n",
    "\tprint()\n",
    "\tprint(example_target_strings[:5])\n",
    "\tprint(example_context_strings.shape)\n",
    "\tbreak"
   ]
  },
  {
   "cell_type": "code",
   "execution_count": 42,
   "metadata": {},
   "outputs": [
    {
     "name": "stdout",
     "output_type": "stream",
     "text": [
      "b'\\xc2\\xbfTodav\\xc3\\xada est\\xc3\\xa1 en casa?'\n",
      "b'\\xc2\\xbfTodavi\\xcc\\x81a esta\\xcc\\x81 en casa?'\n"
     ]
    }
   ],
   "source": [
    "example_text = tf.constant('¿Todavía está en casa?')\n",
    "\n",
    "print(example_text.numpy())\n",
    "print(tf_text.normalize_utf8(example_text, 'NFKD').numpy())"
   ]
  },
  {
   "cell_type": "code",
   "execution_count": 43,
   "metadata": {},
   "outputs": [],
   "source": [
    "def tf_lower_and_split_punct(text):\n",
    "\t# Split accented characters.\n",
    "\ttext = tf_text.normalize_utf8(text, 'NFKD')\n",
    "\ttext = tf.strings.lower(text)\n",
    "\t# Keep space, a to z, and select punctuation.\n",
    "\ttext = tf.strings.regex_replace(text, '[^ a-z.?!,¿]', '')\n",
    "\t# Add spaces around punctuation.\n",
    "\ttext = tf.strings.regex_replace(text, '[.?!,¿]', r' \\0 ')\n",
    "\t# Strip whitespace.\n",
    "\ttext = tf.strings.strip(text)\n",
    "\n",
    "\ttext = tf.strings.join(['[START]', text, '[END]'], separator=' ')\n",
    "\treturn text"
   ]
  },
  {
   "cell_type": "code",
   "execution_count": 44,
   "metadata": {},
   "outputs": [
    {
     "name": "stdout",
     "output_type": "stream",
     "text": [
      "¿Todavía está en casa?\n",
      "[START] ¿ todavia esta en casa ? [END]\n"
     ]
    }
   ],
   "source": [
    "print(example_text.numpy().decode())\n",
    "print(tf_lower_and_split_punct(example_text).numpy().decode())"
   ]
  },
  {
   "cell_type": "code",
   "execution_count": 45,
   "metadata": {},
   "outputs": [],
   "source": [
    "max_vocab_size = 10000\n",
    "\n",
    "context_text_processor = tf.keras.layers.TextVectorization(\n",
    "\tstandardize=tf_lower_and_split_punct,\n",
    "\tmax_tokens=max_vocab_size,\n",
    "\tragged=True)\n",
    "\n",
    "context_text_processor.adapt(train_raw.map(lambda context, target: context))"
   ]
  },
  {
   "cell_type": "code",
   "execution_count": 46,
   "metadata": {},
   "outputs": [
    {
     "data": {
      "text/plain": [
       "['', '[UNK]', '[START]', '[END]', '.', 'i', 'you', 'to', 'the', '?']"
      ]
     },
     "execution_count": 46,
     "metadata": {},
     "output_type": "execute_result"
    }
   ],
   "source": [
    "target_text_processor = tf.keras.layers.TextVectorization(\n",
    "\tstandardize=tf_lower_and_split_punct,\n",
    "\tmax_tokens=max_vocab_size,\n",
    "\tragged=True)\n",
    "\n",
    "target_text_processor.adapt(train_raw.map(lambda context, target: target))\n",
    "target_text_processor.get_vocabulary()[:10]"
   ]
  },
  {
   "cell_type": "code",
   "execution_count": 47,
   "metadata": {},
   "outputs": [
    {
     "name": "stdout",
     "output_type": "stream",
     "text": [
      "tf.Tensor([   2   24  942  102   67 1995    4    3], shape=(8,), dtype=int64)\n",
      "tf.Tensor(b'Les gar\\xc3\\xa7ons ont \\xc3\\xa9t\\xc3\\xa9 bless\\xc3\\xa9s.', shape=(), dtype=string)\n",
      "tf.Tensor(\n",
      "[   2   26   88    6  194   40   20   10   14 2642    7  521    6   16\n",
      "    4    3], shape=(16,), dtype=int64)\n",
      "tf.Tensor(b\"J'ai besoin de savoir tout ce que vous connaissez \\xc3\\xa0 propos de Tom.\", shape=(), dtype=string)\n"
     ]
    }
   ],
   "source": [
    "example_tokens = context_text_processor(example_context_strings)\n",
    "print(example_tokens[0])\n",
    "print(example_context_strings[0])\n",
    "print(example_tokens[2])\n",
    "print(example_context_strings[2])"
   ]
  },
  {
   "cell_type": "code",
   "execution_count": 48,
   "metadata": {},
   "outputs": [
    {
     "data": {
      "text/plain": [
       "'[START] les garcons ont ete blesses . [END]'"
      ]
     },
     "execution_count": 48,
     "metadata": {},
     "output_type": "execute_result"
    }
   ],
   "source": [
    "context_vocab = np.array(context_text_processor.get_vocabulary())\n",
    "tokens = context_vocab[example_tokens[0].numpy()]\n",
    "' '.join(tokens)"
   ]
  },
  {
   "cell_type": "code",
   "execution_count": 49,
   "metadata": {},
   "outputs": [
    {
     "data": {
      "text/plain": [
       "(10000,)"
      ]
     },
     "execution_count": 49,
     "metadata": {},
     "output_type": "execute_result"
    }
   ],
   "source": [
    "context_vocab.shape"
   ]
  },
  {
   "cell_type": "code",
   "execution_count": 50,
   "metadata": {},
   "outputs": [
    {
     "data": {
      "text/plain": [
       "Text(0.5, 1.0, 'Mask')"
      ]
     },
     "execution_count": 50,
     "metadata": {},
     "output_type": "execute_result"
    },
    {
     "data": {
      "image/png": "[encoded data removed]",
      "text/plain": [
       "<Figure size 640x480 with 2 Axes>"
      ]
     },
     "metadata": {},
     "output_type": "display_data"
    }
   ],
   "source": [
    "plt.subplot(1, 2, 1)\n",
    "plt.pcolormesh(example_tokens.to_tensor())\n",
    "plt.title('Token IDs')\n",
    "\n",
    "plt.subplot(1, 2, 2)\n",
    "plt.pcolormesh(example_tokens.to_tensor() != 0)\n",
    "plt.title('Mask')"
   ]
  },
  {
   "cell_type": "code",
   "execution_count": 51,
   "metadata": {},
   "outputs": [],
   "source": [
    "def process_text(context, target):\n",
    "\tcontext = context_text_processor(context).to_tensor()\n",
    "\ttarget = target_text_processor(target)\n",
    "\ttarg_in = target[:,:-1].to_tensor()\n",
    "\ttarg_out = target[:,1:].to_tensor()\n",
    "\treturn (context, targ_in), targ_out\n",
    "\n",
    "\n",
    "train_ds = train_raw.map(process_text, tf.data.AUTOTUNE)\n",
    "val_ds = val_raw.map(process_text, tf.data.AUTOTUNE)"
   ]
  },
  {
   "cell_type": "code",
   "execution_count": 52,
   "metadata": {},
   "outputs": [
    {
     "name": "stdout",
     "output_type": "stream",
     "text": [
      "[   2   19  167   39   12  811    9   11  575  192  560   12  811    9\n",
      "   11  575  192  313   36   13 1666    4    3]\n",
      "(64, 23)\n",
      "\n",
      "[   2   10  167   35  751  422   11   35  751 1052   19    8  230  314\n",
      "    4    0]\n",
      "(64, 16)\n",
      "[  10  167   35  751  422   11   35  751 1052   19    8  230  314    4\n",
      "    3    0]\n",
      "(64, 16)\n"
     ]
    }
   ],
   "source": [
    "for (ex_context_tok,ex_tar_in),ex_tar_out in train_ds.take(1):\n",
    "\tprint(ex_context_tok[0,:].numpy())\n",
    "\tprint(ex_context_tok.numpy().shape)\n",
    "\tprint()\n",
    "\tprint(ex_tar_in[0,:].numpy())\n",
    "\tprint(ex_tar_in.numpy().shape)\n",
    "\tprint(ex_tar_out[0,:].numpy())\n",
    "\tprint(ex_tar_out.numpy().shape)"
   ]
  },
  {
   "cell_type": "code",
   "execution_count": 53,
   "metadata": {},
   "outputs": [],
   "source": [
    "units = 256"
   ]
  },
  {
   "cell_type": "code",
   "execution_count": 54,
   "metadata": {},
   "outputs": [],
   "source": [
    "class Encoder(tf.keras.layers.Layer):\n",
    "\tdef __init__(self, text_processor, units,**kwargs):\n",
    "\t\tsuper(Encoder,self).__init__()\n",
    "\t\tself.text_processor = text_processor\n",
    "\t\tself.vocab_size = text_processor.vocabulary_size()\n",
    "\t\tself.units = units\n",
    "\n",
    "\t\tself.embedding = tf.keras.layers.Embedding(self.vocab_size,units,mask_zero=True)\n",
    "\n",
    "\t\tself.rnn = tf.keras.layers.Bidirectional(\n",
    "\t\t\tmerge_mode='sum',\n",
    "\t\t\tlayer=tf.keras.layers.GRU(units,\n",
    "\t\t\t\t\t\t\t\t\t  return_sequences=True,\n",
    "\t\t\t\t\t\t\t\t\t  recurrent_initializer='glorot_uniform')\n",
    "\t\t)\n",
    "\t\n",
    "\tdef call(self, x):\n",
    "\t\tx = self.embedding(x)\n",
    "\t\tx = self.rnn(x)\n",
    "\t\treturn x\n",
    "\n",
    "\tdef convert_input(self,texts):\n",
    "\t\ttexts = tf.convert_to_tensor(texts)\n",
    "\t\tif(len(texts))==0:\n",
    "\t\t\ttexts = tf.convert_to_tensor(texts)[tf.newaxis]\n",
    "\t\tcontext = self.text_processor(texts).to_tensor()\n",
    "\t\tcontext = self(context)\n",
    "\t\treturn context"
   ]
  },
  {
   "cell_type": "code",
   "execution_count": 55,
   "metadata": {},
   "outputs": [
    {
     "name": "stdout",
     "output_type": "stream",
     "text": [
      "Context tokens, shape (batch, s): (64, 23)\n",
      "Encoder output, shape (batch, s, units): (64, 23, 256)\n"
     ]
    }
   ],
   "source": [
    "# Encode the input sequence.\n",
    "encoder = Encoder(context_text_processor, units)\n",
    "ex_context = encoder(ex_context_tok)\n",
    "\n",
    "print(f'Context tokens, shape (batch, s): {ex_context_tok.shape}')\n",
    "print(f'Encoder output, shape (batch, s, units): {ex_context.shape}')"
   ]
  },
  {
   "cell_type": "code",
   "execution_count": 56,
   "metadata": {},
   "outputs": [],
   "source": [
    "class CrossAttention(tf.keras.layers.Layer):\n",
    "\tdef __init__(self, units,**kwargs):\n",
    "\t\tsuper().__init__()\n",
    "\t\tself.mha = tf.keras.layers.MultiHeadAttention(key_dim=units,num_heads=1,**kwargs)\n",
    "\t\tself.layernorm = tf.keras.layers.LayerNormalization()\n",
    "\t\tself.add = tf.keras.layers.Add()\n",
    "\n",
    "\tdef call(self,x,context):\n",
    "\t\tattn_output,attn_scores = self.mha(\n",
    "\t\t\tquery = x,\n",
    "\t\t\tvalue = context,\n",
    "\t\t\treturn_attention_scores = True\n",
    "\t\t)\n",
    "\t\tattn_scores = tf.reduce_mean(attn_scores,axis=1) \n",
    "\t\tself.last_attention_weights = attn_scores\n",
    "\n",
    "\t\tx = self.add([x,attn_output])\n",
    "\t\tx = self.layernorm(x)\n",
    "\t\treturn x"
   ]
  },
  {
   "cell_type": "code",
   "execution_count": 57,
   "metadata": {},
   "outputs": [],
   "source": [
    "attention_layer = CrossAttention(units)\n",
    "embed = tf.keras.layers.Embedding(target_text_processor.vocabulary_size(),output_dim=units,mask_zero=True)\n",
    "ex_tar_emb = embed(ex_tar_in)\n",
    "\n",
    "result = attention_layer(ex_tar_emb,ex_context)"
   ]
  },
  {
   "cell_type": "code",
   "execution_count": 58,
   "metadata": {},
   "outputs": [
    {
     "data": {
      "image/png": "[encoded data removed]",
      "text/plain": [
       "<Figure size 640x480 with 2 Axes>"
      ]
     },
     "metadata": {},
     "output_type": "display_data"
    }
   ],
   "source": [
    "attention_weights = attention_layer.last_attention_weights\n",
    "mask=(ex_context_tok != 0).numpy()\n",
    "\n",
    "plt.subplot(1, 2, 1)\n",
    "plt.pcolormesh(mask*attention_weights[:, 0, :])\n",
    "plt.title('Attention weights')\n",
    "\n",
    "plt.subplot(1, 2, 2)\n",
    "plt.pcolormesh(mask)\n",
    "plt.title('Mask');"
   ]
  },
  {
   "cell_type": "code",
   "execution_count": 59,
   "metadata": {},
   "outputs": [],
   "source": [
    "class Decoder(tf.keras.layers.Layer):  \n",
    "\t\tdef __init__(self, text_processor,units):\n",
    "\t\t\t\tsuper().__init__()\n",
    "\t\t\t\tself.text_processor = text_processor\n",
    "\t\t\t\tself.units = units\n",
    "\n",
    "\t\t\t\tself.vocab_size = text_processor.vocabulary_size()\n",
    "\n",
    "\t\t\t\tself.word_to_id = tf.keras.layers.StringLookup(\n",
    "\t\t\t\tvocabulary=text_processor.get_vocabulary(),\n",
    "\t\t\t\tmask_token='', oov_token='[UNK]')\n",
    "\t\t\t\tself.id_to_word = tf.keras.layers.StringLookup(\n",
    "\t\t\t\t\t\tvocabulary=text_processor.get_vocabulary(),\n",
    "\t\t\t\t\t\tmask_token='', oov_token='[UNK]',\n",
    "\t\t\t\t\t\tinvert=True)\n",
    "\t\t\t\tself.start_token = self.word_to_id('[START]')\n",
    "\t\t\t\tself.end_token = self.word_to_id('[END]')\n",
    "\n",
    "\t\t\t\tself.embedding = tf.keras.layers.Embedding(self.vocab_size,\n",
    "\t\t\t\t\t\t\t\t\t\t\t\t\t\t\t\t\t\t\t\t\t\t\t units, mask_zero=True)\n",
    "\n",
    "\t\t\t\t# 2. The RNN keeps track of what's been generated so far.\n",
    "\t\t\t\tself.rnn = tf.keras.layers.GRU(units,\n",
    "\t\t\t\t\t\t\t\t\t\t\t\t\t\t\t\t\t\treturn_sequences=True,\n",
    "\t\t\t\t\t\t\t\t\t\t\t\t\t\t\t\t\t\treturn_state=True,\n",
    "\t\t\t\t\t\t\t\t\t\t\t\t\t\t\t\t\t\trecurrent_initializer='glorot_uniform')\n",
    "\n",
    "\t\t\t\t# 3. The RNN output will be the query for the attention layer.\n",
    "\t\t\t\tself.attention = CrossAttention(units)\n",
    "\n",
    "\t\t\t\t# 4. This fully connected layer produces the logits for each\n",
    "\t\t\t\t# output token.\n",
    "\t\t\t\tself.output_layer = tf.keras.layers.Dense(self.vocab_size)\n",
    "\n",
    "\t\t\t\t\n",
    "\t\tdef call(self,context,x,state=None,return_state = False):\n",
    "\t\t\t\tx = self.embedding(x)\n",
    "\t\t\t\tx,state = self.rnn(x,initial_state = state)\n",
    "\n",
    "\t\t\t\tx = self.attention(x,context)\n",
    "\n",
    "\t\t\t\tself.last_attention_weights = self.attention.last_attention_weights\n",
    "\n",
    "\t\t\t\tlogits = self.output_layer(x)\n",
    "\n",
    "\t\t\t\tif return_state:\n",
    "\t\t\t\t\t\treturn logits,state\n",
    "\t\t\t\t\n",
    "\t\t\t\telse:   \n",
    "\t\t\t\t\t\treturn logits\n",
    "\t\t\t\t\n",
    "\t\tdef get_initial_state(self, context):\n",
    "\t\t\tbatch_size = tf.shape(context)[0]\n",
    "\t\t\tstart_tokens = tf.fill([batch_size, 1], self.start_token)\n",
    "\t\t\tdone = tf.zeros([batch_size, 1], dtype=tf.bool)\n",
    "\t\t\tembedded = self.embedding(start_tokens)\n",
    "\t\t\treturn start_tokens, done, self.rnn.get_initial_state(embedded)[0]\n",
    "\n",
    "\t\tdef tokens_to_text(self, tokens):\n",
    "\t\t\twords = self.id_to_word(tokens)\n",
    "\t\t\tresult = tf.strings.reduce_join(words, axis=-1, separator=' ')\n",
    "\t\t\tresult = tf.strings.regex_replace(result, '^ *\\[START\\] *', '')\n",
    "\t\t\tresult = tf.strings.regex_replace(result, ' *\\[END\\] *$', '')\n",
    "\t\t\treturn result\n",
    "\n",
    "\t\tdef get_next_token(self, context, next_token, done, state, temperature = 0.0):\n",
    "\t\t\tlogits, state = self(\n",
    "\t\t\t\tcontext, next_token,\n",
    "\t\t\t\tstate = state,\n",
    "\t\t\t\treturn_state=True) \n",
    "\n",
    "\t\t\tif temperature == 0.0:\n",
    "\t\t\t\tnext_token = tf.argmax(logits, axis=-1)\n",
    "\t\t\telse:\n",
    "\t\t\t\tlogits = logits[:, -1, :]/temperature\n",
    "\t\t\t\tnext_token = tf.random.categorical(logits, num_samples=1)\n",
    "\n",
    "\t\t\t# If a sequence produces an `end_token`, set it `done`\n",
    "\t\t\tdone = done | (next_token == self.end_token)\n",
    "\t\t\t# Once a sequence is done it only produces 0-padding.\n",
    "\t\t\tnext_token = tf.where(done, tf.constant(0, dtype=tf.int64), next_token)\n",
    "\n",
    "\t\t\treturn next_token, done, state\n",
    "\t\t\t\t"
   ]
  },
  {
   "cell_type": "code",
   "execution_count": 60,
   "metadata": {},
   "outputs": [
    {
     "name": "stdout",
     "output_type": "stream",
     "text": [
      "encoder output shape: (batch, s, units) (64, 23, 256)\n",
      "input target tokens shape: (batch, t) (64, 16)\n",
      "logits shape shape: (batch, target_vocabulary_size) (64, 16, 10000)\n"
     ]
    }
   ],
   "source": [
    "decoder  = Decoder(target_text_processor,units)\n",
    "\n",
    "logits = decoder(ex_context, ex_tar_in)\n",
    "\n",
    "print(f'encoder output shape: (batch, s, units) {ex_context.shape}')\n",
    "print(f'input target tokens shape: (batch, t) {ex_tar_in.shape}')\n",
    "print(f'logits shape shape: (batch, target_vocabulary_size) {logits.shape}')"
   ]
  },
  {
   "cell_type": "code",
   "execution_count": 61,
   "metadata": {},
   "outputs": [
    {
     "data": {
      "text/plain": [
       "array([b'toothbrush feverish anybody legibly bangkok bellows wires selfies obviously verb',\n",
       "       b'appreciate climate sustain morons contributions chapter dignity chopsticks speak army',\n",
       "       b'six ignores detests dodge hungry horses him backyard uncanny agency',\n",
       "       b'sample complacent wales slowly solo looking dumbfounded reserved agency rainforests',\n",
       "       b'chapped stove hello argument observe fashions apprehended hills trainee irreplaceable'],\n",
       "      dtype=object)"
      ]
     },
     "execution_count": 61,
     "metadata": {},
     "output_type": "execute_result"
    }
   ],
   "source": [
    "# Setup the loop variables.\n",
    "next_token, done, state = decoder.get_initial_state(ex_context)\n",
    "tokens = []\n",
    "\n",
    "for n in range(10):\n",
    "\t# Run one step.\n",
    "\tnext_token, done, state = decoder.get_next_token(\n",
    "\t\t\tex_context, next_token, done, state, temperature=1.0)\n",
    "\t# Add the token to the output.\n",
    "\ttokens.append(next_token)\n",
    "\n",
    "# Stack all the tokens together.\n",
    "tokens = tf.concat(tokens, axis=-1) # (batch, t)\n",
    "\n",
    "# Convert the tokens back to a a string\n",
    "result = decoder.tokens_to_text(tokens)\n",
    "result[:5].numpy()"
   ]
  },
  {
   "cell_type": "code",
   "execution_count": 62,
   "metadata": {},
   "outputs": [],
   "source": [
    "class Translator(tf.keras.Model):\n",
    "\t\tdef __init__(self,units, context_text_processor,target_text_processor):\n",
    "\t\t\t\tsuper().__init__()\n",
    "\n",
    "\t\t\t\tencoder = Encoder(context_text_processor,units)\n",
    "\t\t\t\tdecoder = Decoder(target_text_processor,units)\n",
    "\n",
    "\t\t\t\tself.encoder = encoder\n",
    "\t\t\t\tself.decoder = decoder\n",
    "\n",
    "\n",
    "\t\tdef call(self,inputs):\n",
    "\t\t\tcontext,x = inputs\n",
    "\t\t\tcontext = self.encoder(context)\n",
    "\t\t\tlogits = self.decoder(context,x)\n",
    "\t\t\t\n",
    "\t\t\ttry:\n",
    "\t\t\t\t\tdel logits._keras_mask\n",
    "\t\t\texcept AttributeError:\n",
    "\t\t\t\t\tpass\n",
    "\t\t\t\n",
    "\t\t\treturn logits\n",
    "\t\t\t\t\n",
    "\t\tdef translate(self,\n",
    "\t\t\t\t\t\t\t\t\ttexts, *,\n",
    "\t\t\t\t\t\t\t\t\tmax_length=50,\n",
    "\t\t\t\t\t\t\t\t\ttemperature=0.0):\n",
    "\t\t\t# Process the input texts\n",
    "\t\t\tcontext = self.encoder.convert_input(texts)\n",
    "\t\t\tbatch_size = tf.shape(texts)[0]\n",
    "\n",
    "\t\t\t# Setup the loop inputs\n",
    "\t\t\ttokens = []\n",
    "\t\t\tattention_weights = []\n",
    "\t\t\tnext_token, done, state = self.decoder.get_initial_state(context)\n",
    "\n",
    "\t\t\tfor _ in range(max_length):\n",
    "\t\t\t\t# Generate the next token\n",
    "\t\t\t\tnext_token, done, state = self.decoder.get_next_token(\n",
    "\t\t\t\t\t\tcontext, next_token, done,  state, temperature)\n",
    "\n",
    "\t\t\t\t# Collect the generated tokens\n",
    "\t\t\t\ttokens.append(next_token)\n",
    "\t\t\t\tattention_weights.append(self.decoder.last_attention_weights)\n",
    "\n",
    "\t\t\t\tif tf.executing_eagerly() and tf.reduce_all(done):\n",
    "\t\t\t\t\tbreak\n",
    "\n",
    "\t\t\t# Stack the lists of tokens and attention weights.\n",
    "\t\t\ttokens = tf.concat(tokens, axis=-1)   # t*[(batch 1)] -> (batch, t)\n",
    "\t\t\tself.last_attention_weights = tf.concat(attention_weights, axis=1)  # t*[(batch 1 s)] -> (batch, t s)\n",
    "\n",
    "\t\t\tresult = self.decoder.tokens_to_text(tokens)\n",
    "\t\t\treturn result"
   ]
  },
  {
   "cell_type": "code",
   "execution_count": 63,
   "metadata": {},
   "outputs": [
    {
     "name": "stdout",
     "output_type": "stream",
     "text": [
      "(ex_context_tok,ex_tar_in)\n",
      "Context tokens, shape: (batch, s, units) (64, 23)\n",
      "Target tokens, shape: (batch, t) (64, 16)\n",
      "logits, shape: (batch, t, target_vocabulary_size) (64, 16, 10000)\n"
     ]
    }
   ],
   "source": [
    "model =  Translator(units,context_text_processor,target_text_processor)\n",
    "\n",
    "print(\"(ex_context_tok,ex_tar_in)\")\n",
    "logits = model((ex_context_tok,ex_tar_in))\n",
    "\n",
    "print(f'Context tokens, shape: (batch, s, units) {ex_context_tok.shape}')\n",
    "print(f'Target tokens, shape: (batch, t) {ex_tar_in.shape}')\n",
    "print(f'logits, shape: (batch, t, target_vocabulary_size) {logits.shape}')"
   ]
  },
  {
   "cell_type": "code",
   "execution_count": 64,
   "metadata": {},
   "outputs": [],
   "source": [
    "def masked_loss(y_true, y_pred):\n",
    "    # Calculate the loss for each item in the batch.\n",
    "    loss_fn = tf.keras.losses.SparseCategoricalCrossentropy(\n",
    "        from_logits=True, reduction='none')\n",
    "    loss = loss_fn(y_true, y_pred)\n",
    "\n",
    "    # Mask off the losses on padding.\n",
    "    mask = tf.cast(y_true != 0, loss.dtype)\n",
    "    loss *= mask\n",
    "\n",
    "    # Return the total.\n",
    "    return tf.reduce_sum(loss)/tf.reduce_sum(mask)"
   ]
  },
  {
   "cell_type": "code",
   "execution_count": 65,
   "metadata": {},
   "outputs": [],
   "source": [
    "def masked_acc(y_true, y_pred):\n",
    "    # Calculate the loss for each item in the batch.\n",
    "    y_pred = tf.argmax(y_pred, axis=-1)\n",
    "    y_pred = tf.cast(y_pred, y_true.dtype)\n",
    "\n",
    "    match = tf.cast(y_true == y_pred, tf.float32)\n",
    "    mask = tf.cast(y_true != 0, tf.float32)\n",
    "\n",
    "    return tf.reduce_sum(match)/tf.reduce_sum(mask)"
   ]
  },
  {
   "cell_type": "code",
   "execution_count": 66,
   "metadata": {},
   "outputs": [
    {
     "name": "stdout",
     "output_type": "stream",
     "text": [
      "20/20 [==============================] - 4s 24ms/step - loss: 9.2134 - masked_acc: 9.5785e-05 - masked_loss: 9.2134\n"
     ]
    },
    {
     "data": {
      "text/plain": [
       "{'loss': 9.213360786437988,\n",
       " 'masked_acc': 9.578543540555984e-05,\n",
       " 'masked_loss': 9.213360786437988}"
      ]
     },
     "execution_count": 66,
     "metadata": {},
     "output_type": "execute_result"
    }
   ],
   "source": [
    "model.compile(optimizer='adam',\n",
    "              loss=masked_loss, \n",
    "              metrics=[masked_acc, masked_loss])\n",
    "\n",
    "vocab_size = 1.0 * target_text_processor.vocabulary_size()\n",
    "\n",
    "{\"expected_loss\": tf.math.log(vocab_size).numpy(),\n",
    " \"expected_acc\": 1/vocab_size}\n",
    "\n",
    "model.evaluate(val_ds, steps=20, return_dict=True)"
   ]
  },
  {
   "cell_type": "code",
   "execution_count": 67,
   "metadata": {},
   "outputs": [
    {
     "name": "stdout",
     "output_type": "stream",
     "text": [
      "Epoch 1/100\n",
      "100/100 [==============================] - 10s 43ms/step - loss: 5.3323 - masked_acc: 0.2390 - masked_loss: 5.3323 - val_loss: 4.3494 - val_masked_acc: 0.3279 - val_masked_loss: 4.3494\n",
      "Epoch 2/100\n",
      "100/100 [==============================] - 4s 43ms/step - loss: 3.9149 - masked_acc: 0.3868 - masked_loss: 3.9149 - val_loss: 3.4882 - val_masked_acc: 0.4341 - val_masked_loss: 3.4882\n",
      "Epoch 3/100\n",
      "100/100 [==============================] - 4s 42ms/step - loss: 3.2999 - masked_acc: 0.4639 - masked_loss: 3.2999 - val_loss: 2.9514 - val_masked_acc: 0.5034 - val_masked_loss: 2.9514\n",
      "Epoch 4/100\n",
      "100/100 [==============================] - 4s 43ms/step - loss: 2.9013 - masked_acc: 0.5198 - masked_loss: 2.9013 - val_loss: 2.6960 - val_masked_acc: 0.5452 - val_masked_loss: 2.6960\n",
      "Epoch 5/100\n",
      "100/100 [==============================] - 4s 43ms/step - loss: 2.5520 - masked_acc: 0.5685 - masked_loss: 2.5520 - val_loss: 2.3471 - val_masked_acc: 0.5961 - val_masked_loss: 2.3471\n",
      "Epoch 6/100\n",
      "100/100 [==============================] - 4s 42ms/step - loss: 2.3121 - masked_acc: 0.6052 - masked_loss: 2.3121 - val_loss: 2.1643 - val_masked_acc: 0.6259 - val_masked_loss: 2.1643\n",
      "Epoch 7/100\n",
      "100/100 [==============================] - 4s 43ms/step - loss: 2.1143 - masked_acc: 0.6362 - masked_loss: 2.1143 - val_loss: 2.0767 - val_masked_acc: 0.6358 - val_masked_loss: 2.0767\n",
      "Epoch 8/100\n",
      "100/100 [==============================] - 4s 43ms/step - loss: 1.9813 - masked_acc: 0.6524 - masked_loss: 1.9813 - val_loss: 1.8406 - val_masked_acc: 0.6712 - val_masked_loss: 1.8406\n",
      "Epoch 9/100\n",
      "100/100 [==============================] - 4s 43ms/step - loss: 1.8682 - masked_acc: 0.6689 - masked_loss: 1.8682 - val_loss: 1.7938 - val_masked_acc: 0.6758 - val_masked_loss: 1.7938\n",
      "Epoch 10/100\n",
      "100/100 [==============================] - 4s 42ms/step - loss: 1.7711 - masked_acc: 0.6820 - masked_loss: 1.7711 - val_loss: 1.6768 - val_masked_acc: 0.6924 - val_masked_loss: 1.6768\n",
      "Epoch 11/100\n",
      "100/100 [==============================] - 4s 43ms/step - loss: 1.6953 - masked_acc: 0.6919 - masked_loss: 1.6953 - val_loss: 1.6550 - val_masked_acc: 0.6930 - val_masked_loss: 1.6550\n",
      "Epoch 12/100\n",
      "100/100 [==============================] - 4s 42ms/step - loss: 1.6386 - masked_acc: 0.6998 - masked_loss: 1.6386 - val_loss: 1.5420 - val_masked_acc: 0.7096 - val_masked_loss: 1.5420\n",
      "Epoch 13/100\n",
      "100/100 [==============================] - 4s 43ms/step - loss: 1.5704 - masked_acc: 0.7086 - masked_loss: 1.5704 - val_loss: 1.5900 - val_masked_acc: 0.7068 - val_masked_loss: 1.5900\n",
      "Epoch 14/100\n",
      "100/100 [==============================] - 4s 43ms/step - loss: 1.5037 - masked_acc: 0.7195 - masked_loss: 1.5037 - val_loss: 1.4713 - val_masked_acc: 0.7198 - val_masked_loss: 1.4713\n",
      "Epoch 15/100\n",
      "100/100 [==============================] - 4s 43ms/step - loss: 1.4819 - masked_acc: 0.7197 - masked_loss: 1.4819 - val_loss: 1.4281 - val_masked_acc: 0.7212 - val_masked_loss: 1.4281\n",
      "Epoch 16/100\n",
      "100/100 [==============================] - 4s 43ms/step - loss: 1.4696 - masked_acc: 0.7206 - masked_loss: 1.4696 - val_loss: 1.4057 - val_masked_acc: 0.7294 - val_masked_loss: 1.4057\n",
      "Epoch 17/100\n",
      "100/100 [==============================] - 4s 43ms/step - loss: 1.4085 - masked_acc: 0.7295 - masked_loss: 1.4085 - val_loss: 1.4139 - val_masked_acc: 0.7295 - val_masked_loss: 1.4139\n",
      "Epoch 18/100\n",
      "100/100 [==============================] - 4s 43ms/step - loss: 1.3878 - masked_acc: 0.7362 - masked_loss: 1.3878 - val_loss: 1.3195 - val_masked_acc: 0.7419 - val_masked_loss: 1.3195\n",
      "Epoch 19/100\n",
      "100/100 [==============================] - 4s 43ms/step - loss: 1.3563 - masked_acc: 0.7371 - masked_loss: 1.3563 - val_loss: 1.3827 - val_masked_acc: 0.7257 - val_masked_loss: 1.3827\n",
      "Epoch 20/100\n",
      "100/100 [==============================] - 4s 43ms/step - loss: 1.3270 - masked_acc: 0.7421 - masked_loss: 1.3270 - val_loss: 1.2744 - val_masked_acc: 0.7490 - val_masked_loss: 1.2744\n",
      "Epoch 21/100\n",
      "100/100 [==============================] - 4s 43ms/step - loss: 1.2803 - masked_acc: 0.7487 - masked_loss: 1.2768 - val_loss: 1.3136 - val_masked_acc: 0.7427 - val_masked_loss: 1.3136\n",
      "Epoch 22/100\n",
      "100/100 [==============================] - 4s 43ms/step - loss: 1.0538 - masked_acc: 0.7755 - masked_loss: 1.0538 - val_loss: 1.2463 - val_masked_acc: 0.7546 - val_masked_loss: 1.2463\n",
      "Epoch 23/100\n",
      "100/100 [==============================] - 4s 43ms/step - loss: 1.0279 - masked_acc: 0.7790 - masked_loss: 1.0279 - val_loss: 1.2268 - val_masked_acc: 0.7545 - val_masked_loss: 1.2268\n",
      "Epoch 24/100\n",
      "100/100 [==============================] - 4s 43ms/step - loss: 1.0721 - masked_acc: 0.7717 - masked_loss: 1.0721 - val_loss: 1.2052 - val_masked_acc: 0.7560 - val_masked_loss: 1.2052\n",
      "Epoch 25/100\n",
      "100/100 [==============================] - 4s 44ms/step - loss: 1.0948 - masked_acc: 0.7686 - masked_loss: 1.0948 - val_loss: 1.2233 - val_masked_acc: 0.7580 - val_masked_loss: 1.2233\n",
      "Epoch 26/100\n",
      "100/100 [==============================] - 4s 44ms/step - loss: 1.0352 - masked_acc: 0.7779 - masked_loss: 1.0352 - val_loss: 1.1832 - val_masked_acc: 0.7598 - val_masked_loss: 1.1832\n",
      "Epoch 27/100\n",
      "100/100 [==============================] - 4s 43ms/step - loss: 1.0814 - masked_acc: 0.7710 - masked_loss: 1.0814 - val_loss: 1.1614 - val_masked_acc: 0.7655 - val_masked_loss: 1.1614\n",
      "Epoch 28/100\n",
      "100/100 [==============================] - 4s 44ms/step - loss: 1.0486 - masked_acc: 0.7778 - masked_loss: 1.0486 - val_loss: 1.2086 - val_masked_acc: 0.7563 - val_masked_loss: 1.2086\n",
      "Epoch 29/100\n",
      "100/100 [==============================] - 4s 43ms/step - loss: 1.0450 - masked_acc: 0.7786 - masked_loss: 1.0450 - val_loss: 1.1497 - val_masked_acc: 0.7674 - val_masked_loss: 1.1497\n",
      "Epoch 30/100\n",
      "100/100 [==============================] - 4s 44ms/step - loss: 1.0298 - masked_acc: 0.7782 - masked_loss: 1.0298 - val_loss: 1.1721 - val_masked_acc: 0.7640 - val_masked_loss: 1.1721\n",
      "Epoch 31/100\n",
      "100/100 [==============================] - 4s 43ms/step - loss: 1.0226 - masked_acc: 0.7833 - masked_loss: 1.0226 - val_loss: 1.1221 - val_masked_acc: 0.7666 - val_masked_loss: 1.1221\n",
      "Epoch 32/100\n",
      "100/100 [==============================] - 4s 43ms/step - loss: 1.0284 - masked_acc: 0.7794 - masked_loss: 1.0284 - val_loss: 1.1202 - val_masked_acc: 0.7715 - val_masked_loss: 1.1202\n",
      "Epoch 33/100\n",
      "100/100 [==============================] - 4s 43ms/step - loss: 1.0003 - masked_acc: 0.7852 - masked_loss: 1.0003 - val_loss: 1.1458 - val_masked_acc: 0.7628 - val_masked_loss: 1.1458\n",
      "Epoch 34/100\n",
      "100/100 [==============================] - 4s 43ms/step - loss: 0.9851 - masked_acc: 0.7864 - masked_loss: 0.9851 - val_loss: 1.1433 - val_masked_acc: 0.7701 - val_masked_loss: 1.1433\n",
      "Epoch 35/100\n",
      "100/100 [==============================] - 4s 43ms/step - loss: 0.9990 - masked_acc: 0.7858 - masked_loss: 0.9990 - val_loss: 1.1134 - val_masked_acc: 0.7732 - val_masked_loss: 1.1134\n",
      "Epoch 36/100\n",
      "100/100 [==============================] - 4s 43ms/step - loss: 1.0079 - masked_acc: 0.7863 - masked_loss: 1.0079 - val_loss: 1.1488 - val_masked_acc: 0.7705 - val_masked_loss: 1.1488\n",
      "Epoch 37/100\n",
      "100/100 [==============================] - 4s 43ms/step - loss: 1.0070 - masked_acc: 0.7839 - masked_loss: 1.0070 - val_loss: 1.0831 - val_masked_acc: 0.7761 - val_masked_loss: 1.0831\n",
      "Epoch 38/100\n",
      "100/100 [==============================] - 4s 43ms/step - loss: 1.0040 - masked_acc: 0.7866 - masked_loss: 1.0040 - val_loss: 1.1285 - val_masked_acc: 0.7694 - val_masked_loss: 1.1285\n",
      "Epoch 39/100\n",
      "100/100 [==============================] - 4s 43ms/step - loss: 0.9434 - masked_acc: 0.7971 - masked_loss: 0.9434 - val_loss: 1.0973 - val_masked_acc: 0.7738 - val_masked_loss: 1.0973\n",
      "Epoch 40/100\n",
      "100/100 [==============================] - 4s 43ms/step - loss: 0.9626 - masked_acc: 0.7931 - masked_loss: 0.9626 - val_loss: 1.0986 - val_masked_acc: 0.7776 - val_masked_loss: 1.0986\n"
     ]
    }
   ],
   "source": [
    "history = model.fit(\n",
    "    train_ds.repeat(), \n",
    "    epochs=100,\n",
    "    steps_per_epoch = 100,\n",
    "    validation_data=val_ds,\n",
    "    validation_steps = 20,\n",
    "    callbacks=[\n",
    "        tf.keras.callbacks.EarlyStopping(patience=3)])"
   ]
  },
  {
   "cell_type": "code",
   "execution_count": 68,
   "metadata": {},
   "outputs": [
    {
     "data": {
      "text/plain": [
       "<matplotlib.legend.Legend at 0x135c6e93bb0>"
      ]
     },
     "execution_count": 68,
     "metadata": {},
     "output_type": "execute_result"
    },
    {
     "data": {
      "image/png": "[encoded data removed]",
      "text/plain": [
       "<Figure size 640x480 with 1 Axes>"
      ]
     },
     "metadata": {},
     "output_type": "display_data"
    }
   ],
   "source": [
    "plt.plot(history.history['loss'], label='loss')\n",
    "plt.plot(history.history['val_loss'], label='val_loss')\n",
    "plt.ylim([0, max(plt.ylim())])\n",
    "plt.xlabel('Epoch #')\n",
    "plt.ylabel('CE/token')\n",
    "plt.legend()"
   ]
  },
  {
   "cell_type": "code",
   "execution_count": 69,
   "metadata": {},
   "outputs": [
    {
     "data": {
      "text/plain": [
       "<matplotlib.legend.Legend at 0x135a6a4e6d0>"
      ]
     },
     "execution_count": 69,
     "metadata": {},
     "output_type": "execute_result"
    },
    {
     "data": {
      "image/png": "[encoded data removed]",
      "text/plain": [
       "<Figure size 640x480 with 1 Axes>"
      ]
     },
     "metadata": {},
     "output_type": "display_data"
    }
   ],
   "source": [
    "plt.plot(history.history['masked_acc'], label='accuracy')\n",
    "plt.plot(history.history['val_masked_acc'], label='val_accuracy')\n",
    "plt.ylim([0, max(plt.ylim())])\n",
    "plt.xlabel('Epoch #')\n",
    "plt.ylabel('CE/token')\n",
    "plt.legend()"
   ]
  },
  {
   "cell_type": "code",
   "execution_count": 72,
   "metadata": {},
   "outputs": [
    {
     "name": "stdout",
     "output_type": "stream",
     "text": [
      "thats a wonderful day . \n"
     ]
    }
   ],
   "source": [
    "result = model.translate(['C’est un jour merveilleux']) # that is a wonderful day\n",
    "print(result.numpy()[0].decode())"
   ]
  }
 ],
 "metadata": {
  "kernelspec": {
   "display_name": "Python 3",
   "language": "python",
   "name": "python3"
  },
  "language_info": {
   "codemirror_mode": {
    "name": "ipython",
    "version": 3
   },
   "file_extension": ".py",
   "mimetype": "text/x-python",
   "name": "python",
   "nbconvert_exporter": "python",
   "pygments_lexer": "ipython3",
   "version": "3.9.13"
  }
 },
 "nbformat": 4,
 "nbformat_minor": 2
}
